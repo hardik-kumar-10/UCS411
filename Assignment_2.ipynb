{
  "nbformat": 4,
  "nbformat_minor": 0,
  "metadata": {
    "colab": {
      "provenance": [],
      "authorship_tag": "ABX9TyOY4MDRSJUhCmxGQsTOWldm",
      "include_colab_link": true
    },
    "kernelspec": {
      "name": "python3",
      "display_name": "Python 3"
    },
    "language_info": {
      "name": "python"
    }
  },
  "cells": [
    {
      "cell_type": "markdown",
      "metadata": {
        "id": "view-in-github",
        "colab_type": "text"
      },
      "source": [
        "<a href=\"https://colab.research.google.com/github/hardik-kumar-10/UCS411/blob/main/Assignment_2.ipynb\" target=\"_parent\"><img src=\"https://colab.research.google.com/assets/colab-badge.svg\" alt=\"Open In Colab\"/></a>"
      ]
    },
    {
      "cell_type": "code",
      "source": [],
      "metadata": {
        "id": "Pu_h9D8JqHCE"
      },
      "execution_count": null,
      "outputs": []
    },
    {
      "cell_type": "code",
      "source": [
        "from collections import deque\n",
        "\n",
        "def find_pos(s):\n",
        "  for i in range(3):\n",
        "    for j in range(3):\n",
        "      if s[i][j]==0:\n",
        "        return i,j\n",
        "\n",
        "def is_valid(x, y):\n",
        "    return 0 <= x < 3 and 0 <= y < 3\n",
        "\n",
        "def generate_new_states(state, x, y):\n",
        "    new_states = []\n",
        "    for dx, dy in MOVES:\n",
        "        nx, ny = x + dx, y + dy\n",
        "        if is_valid(nx, ny):\n",
        "            new_state = [list(row) for row in state]\n",
        "            new_state[x][y], new_state[nx][ny] = new_state[nx][ny], new_state[x][y]\n",
        "            new_states.append((new_state, nx, ny))\n",
        "    return new_states\n",
        "\n",
        "def bfs(initial, goal):\n",
        "    start_pos = find_pos(initial)\n",
        "    queue = deque([(initial, start_pos[0], start_pos[1], [])])\n",
        "    visited = set()\n",
        "\n",
        "    while queue:\n",
        "        state, x, y, path = queue.popleft()\n",
        "        state_tuple = tuple(tuple(row) for row in state)\n",
        "        if state_tuple in visited:\n",
        "            continue\n",
        "        visited.add(state_tuple)\n",
        "\n",
        "        if state == goal:\n",
        "            return path\n",
        "\n",
        "        for new_state, nx, ny in generate_new_states(state, x, y):\n",
        "            move = (nx, ny)\n",
        "            queue.append((new_state, nx, ny, path + [move]))\n",
        "\n",
        "    return None\n",
        "\n",
        "\n",
        "\n",
        "\n",
        "s = [[1, 2, 3], [8, 0, 4], [7, 6, 5]]\n",
        "g = [[2, 8, 1], [0, 4, 3], [7, 6, 5]]\n",
        "pos=find_pos(s)\n",
        "print(pos)\n",
        "\n",
        "\n"
      ],
      "metadata": {
        "colab": {
          "base_uri": "https://localhost:8080/"
        },
        "outputId": "b99316e3-ddc3-436c-ed37-cabcc9ea7f82",
        "id": "HG6P6UU9qHcH"
      },
      "execution_count": null,
      "outputs": [
        {
          "output_type": "stream",
          "name": "stdout",
          "text": [
            "(1, 1)\n"
          ]
        }
      ]
    },
    {
      "cell_type": "code",
      "source": [
        "def water_jug():\n",
        "    jug4 = 0\n",
        "    jug3 = 0\n",
        "\n",
        "    steps = []\n",
        "\n",
        "    jug3 = 3\n",
        "    steps.append(f\"Fill 3-liter jug: (4L: {jug4}, 3L: {jug3})\")\n",
        "\n",
        "    jug4 = jug3\n",
        "    jug3 = 0\n",
        "    steps.append(f\"Pour water from 3L to 4L jug: (4L: {jug4}, 3L: {jug3})\")\n",
        "\n",
        "    jug3 = 3\n",
        "    steps.append(f\"Fill 3-liter jug: (4L: {jug4}, 3L: {jug3})\")\n",
        "\n",
        "    remaining_space = 4 - jug4\n",
        "    jug4 += remaining_space\n",
        "    jug3 -= remaining_space\n",
        "    steps.append(f\"Pour water from 3L to 4L jug: (4L: {jug4}, 3L: {jug3})\")\n",
        "\n",
        "    jug4 = 0\n",
        "    steps.append(f\"Empty 4-liter jug: (4L: {jug4}, 3L: {jug3})\")\n",
        "\n",
        "    jug4 = jug3\n",
        "    jug3 = 0\n",
        "    steps.append(f\"Pour remaining water from 3L to 4L jug: (4L: {jug4}, 3L: {jug3})\")\n",
        "\n",
        "    return steps\n",
        "\n",
        "for step in water_jug():\n",
        "    print(step)\n"
      ],
      "metadata": {
        "colab": {
          "base_uri": "https://localhost:8080/"
        },
        "collapsed": true,
        "id": "gOuA-bXYg5BJ",
        "outputId": "5dfaa341-8639-450d-8ee9-78c07177c384"
      },
      "execution_count": null,
      "outputs": [
        {
          "output_type": "stream",
          "name": "stdout",
          "text": [
            "Fill 3-liter jug: (4L: 0, 3L: 3)\n",
            "Pour water from 3L to 4L jug: (4L: 3, 3L: 0)\n",
            "Fill 3-liter jug: (4L: 3, 3L: 3)\n",
            "Pour water from 3L to 4L jug: (4L: 4, 3L: 2)\n",
            "Empty 4-liter jug: (4L: 0, 3L: 2)\n",
            "Pour remaining water from 3L to 4L jug: (4L: 2, 3L: 0)\n",
            "Fill 3-liter jug: (4L: 2, 3L: 3)\n",
            "Pour water from 3L to 4L jug: (4L: 4, 3L: 1)\n"
          ]
        }
      ]
    },
    {
      "cell_type": "code",
      "source": [
        "import itertools\n",
        "from tkinter import messagebox\n",
        "\n",
        "Distance = {\n",
        "    (1, 2): 10,\n",
        "    (1, 3): 15,\n",
        "    (1, 4): 20,\n",
        "    (2, 4): 25,\n",
        "    (2, 3): 35,\n",
        "    (3, 4): 30,\n",
        "}\n",
        "\n",
        "Distance.update({(city2, city1): dist for (city1, city2), dist in Distance.items()})\n",
        "\n",
        "def calculate_total_distance(route):\n",
        "    total_distance = 0\n",
        "    for i in range(len(route) - 1):\n",
        "        total_distance += Distance[(route[i], route[i + 1])]\n",
        "        total_distance += Distance[(route[-1], route[0])]\n",
        "    return total_distance\n",
        "\n",
        "def TSP(cities):\n",
        "    Min_Distance = float('inf')\n",
        "    Optimal_Route = []\n",
        "    for route in itertools.permutations(cities):\n",
        "        total_distance = calculate_total_distance(route)\n",
        "        print(\"Route:\", route, \"Distance:\", total_distance, \"Units\")\n",
        "        if total_distance < Min_Distance:\n",
        "            Min_Distance = total_distance\n",
        "            Optimal_Route = list(route)\n",
        "    return Min_Distance, Optimal_Route\n",
        "\n",
        "if __name__ == \"__main__\":\n",
        "    cities = [1, 2, 3, 4]\n",
        "    Min_Distance, Optimal_Route = TSP(cities)\n",
        "    message = f\"Optimal Route: {' --> '.join(map(str, Optimal_Route))}\\nMinimum Distance: {Min_Distance} Units\"\n",
        "    print(message)\n",
        "    print(\"Optimal Route:\", ' --> '.join(map(str, Optimal_Route)))\n",
        "    print(\"Minimum Distance:\", Min_Distance, \"Units\")\n"
      ],
      "metadata": {
        "colab": {
          "base_uri": "https://localhost:8080/"
        },
        "id": "F4_d_Bd3wflq",
        "outputId": "149f5c33-817e-4807-c9e4-16e93b65b5e6"
      },
      "execution_count": 4,
      "outputs": [
        {
          "output_type": "stream",
          "name": "stdout",
          "text": [
            "Route: (1, 2, 3, 4) Distance: 135 Units\n",
            "Route: (1, 2, 4, 3) Distance: 110 Units\n",
            "Route: (1, 3, 2, 4) Distance: 135 Units\n",
            "Route: (1, 3, 4, 2) Distance: 100 Units\n",
            "Route: (1, 4, 2, 3) Distance: 125 Units\n",
            "Route: (1, 4, 3, 2) Distance: 115 Units\n",
            "Route: (2, 1, 3, 4) Distance: 130 Units\n",
            "Route: (2, 1, 4, 3) Distance: 165 Units\n",
            "Route: (2, 3, 1, 4) Distance: 145 Units\n",
            "Route: (2, 3, 4, 1) Distance: 115 Units\n",
            "Route: (2, 4, 1, 3) Distance: 165 Units\n",
            "Route: (2, 4, 3, 1) Distance: 100 Units\n",
            "Route: (3, 1, 2, 4) Distance: 140 Units\n",
            "Route: (3, 1, 4, 2) Distance: 165 Units\n",
            "Route: (3, 2, 1, 4) Distance: 155 Units\n",
            "Route: (3, 2, 4, 1) Distance: 125 Units\n",
            "Route: (3, 4, 1, 2) Distance: 165 Units\n",
            "Route: (3, 4, 2, 1) Distance: 110 Units\n",
            "Route: (4, 1, 2, 3) Distance: 155 Units\n",
            "Route: (4, 1, 3, 2) Distance: 145 Units\n",
            "Route: (4, 2, 1, 3) Distance: 140 Units\n",
            "Route: (4, 2, 3, 1) Distance: 135 Units\n",
            "Route: (4, 3, 1, 2) Distance: 130 Units\n",
            "Route: (4, 3, 2, 1) Distance: 135 Units\n",
            "Optimal Route: 1 --> 3 --> 4 --> 2\n",
            "Minimum Distance: 100 Units\n",
            "Optimal Route: 1 --> 3 --> 4 --> 2\n",
            "Minimum Distance: 100 Units\n"
          ]
        }
      ]
    }
  ]
}